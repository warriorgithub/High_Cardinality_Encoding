{
  "nbformat": 4,
  "nbformat_minor": 0,
  "metadata": {
    "colab": {
      "name": "High_Cardinality_Categorical_Columns_naveensharma18@outtlook.ipynb",
      "provenance": [],
      "collapsed_sections": [],
      "authorship_tag": "ABX9TyMlB2//zjiyOztZO9O6ePla",
      "include_colab_link": true
    },
    "kernelspec": {
      "name": "python3",
      "display_name": "Python 3"
    }
  },
  "cells": [
    {
      "cell_type": "markdown",
      "metadata": {
        "id": "view-in-github",
        "colab_type": "text"
      },
      "source": [
        "<a href=\"https://colab.research.google.com/github/warriorgithub/High_Cardinality_Encoding/blob/master/High_Cardinality_Categorical_Columns_naveensharma18_outtlook.ipynb\" target=\"_parent\"><img src=\"https://colab.research.google.com/assets/colab-badge.svg\" alt=\"Open In Colab\"/></a>"
      ]
    },
    {
      "cell_type": "markdown",
      "metadata": {
        "id": "lIyNMPG4g81w",
        "colab_type": "text"
      },
      "source": [
        "# **Submission on: Encoding categorical column with lots of unique values**\n",
        "\n",
        "There are many ways we can encode these categorical variables as numbers and use them in an algorithm. There are some techniques I tried accorrding to the problem given.\n",
        "\n",
        "\n",
        "**Technique tried** \n",
        "\n",
        "*   One hot encoding  \n",
        "*   Mean Encoding \n",
        "*   Hashing Encoding\n",
        "*   Weight of Evidence (Mostly good for Classification( Logistic Regression))\n",
        "   \n",
        "\n",
        "\n",
        "1.   **OHE & Hashing Encoding** (Discard)\n",
        "\n",
        "        I could create encoding around these methods but I was unsure if we are ready to loos any information or ready to handle curse of dimensity. Even we do PCA after Hash/ OEH but again had to loose some of the information. \n",
        "        \n",
        "2.   **Mean Encoding** (Accepted)\n",
        "          \n",
        "        After trying different encodings I found out if our moto is not to loose any information and still convert those large number of unqique values(Categorical) into continous, we can use ***'Mean Encoding'***. Mean Encoding will not create huge dimension, its like lable encoding except here labels are correlated directly with the target. \n",
        "\n",
        "        **DrawBack** : Mean encoding is notorious for over-fitting; thus, a **regularization with cross-validation** or some other approach is a must on most occasions.   \n",
        "\n",
        "\n",
        "\n",
        "**Closing Note**\n",
        "\n",
        "There were other technics also which were in mind e.g. **Leave One Out Encoding** which could be the good choice because it can deal with outliars. But I had no clue about what kinda dataset we dealing with therefore I stick with **'Mean Encoding'**. \n",
        "\n",
        "Hope I understood the problem as conveyed \n",
        "\n"
      ]
    },
    {
      "cell_type": "code",
      "metadata": {
        "id": "mgXGKv8-fiWd",
        "colab_type": "code",
        "colab": {}
      },
      "source": [
        "import pandas as pd"
      ],
      "execution_count": 0,
      "outputs": []
    },
    {
      "cell_type": "code",
      "metadata": {
        "id": "xMIznFIbfxrS",
        "colab_type": "code",
        "colab": {}
      },
      "source": [
        "def encoding(df,X,y):\n",
        "  mean_encode = df.groupby(X)[y].mean()\n",
        "  df.loc[:,X+'_encode'] = df[X].map(mean_encode)\n",
        "  return df"
      ],
      "execution_count": 0,
      "outputs": []
    }
  ]
}